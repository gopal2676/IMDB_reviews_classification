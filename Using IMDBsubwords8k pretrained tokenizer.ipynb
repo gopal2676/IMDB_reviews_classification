{
 "cells": [
  {
   "cell_type": "code",
   "execution_count": 1,
   "id": "binary-bubble",
   "metadata": {},
   "outputs": [],
   "source": [
    "# Import libraries\n",
    "import tensorflow as tf\n",
    "import numpy as np\n",
    "import matplotlib.pyplot as plt\n",
    "from tensorflow.keras.preprocessing.text import Tokenizer\n",
    "from tensorflow.keras.preprocessing.sequence import pad_sequences\n",
    "import tensorflow_datasets as tfds"
   ]
  },
  {
   "cell_type": "code",
   "execution_count": 2,
   "id": "aquatic-error",
   "metadata": {},
   "outputs": [
    {
     "name": "stderr",
     "output_type": "stream",
     "text": [
      "WARNING:absl:TFDS datasets with text encoding are deprecated and will be removed in a future version. Instead, you should use the plain text version and tokenize the text using `tensorflow_text` (See: https://www.tensorflow.org/tutorials/tensorflow_text/intro#tfdata_example)\n"
     ]
    }
   ],
   "source": [
    "# Get the dataset\n",
    "imdb,info = tfds.load('imdb_reviews/subwords8k',with_info = True, as_supervised = True)"
   ]
  },
  {
   "cell_type": "code",
   "execution_count": 3,
   "id": "optional-cathedral",
   "metadata": {},
   "outputs": [
    {
     "data": {
      "text/plain": [
       "tfds.core.DatasetInfo(\n",
       "    name='imdb_reviews',\n",
       "    full_name='imdb_reviews/subwords8k/1.0.0',\n",
       "    description=\"\"\"\n",
       "    Large Movie Review Dataset.\n",
       "    This is a dataset for binary sentiment classification containing substantially more data than previous benchmark datasets. We provide a set of 25,000 highly polar movie reviews for training, and 25,000 for testing. There is additional unlabeled data for use as well.\n",
       "    \"\"\",\n",
       "    config_description=\"\"\"\n",
       "    Uses `tfds.deprecated.text.SubwordTextEncoder` with 8k vocab size\n",
       "    \"\"\",\n",
       "    homepage='http://ai.stanford.edu/~amaas/data/sentiment/',\n",
       "    data_path='C:\\\\Users\\\\gopal\\\\tensorflow_datasets\\\\imdb_reviews\\\\subwords8k\\\\1.0.0',\n",
       "    download_size=80.23 MiB,\n",
       "    dataset_size=54.72 MiB,\n",
       "    features=FeaturesDict({\n",
       "        'label': ClassLabel(shape=(), dtype=tf.int64, num_classes=2),\n",
       "        'text': Text(shape=(None,), dtype=tf.int64, encoder=<SubwordTextEncoder vocab_size=8185>),\n",
       "    }),\n",
       "    supervised_keys=('text', 'label'),\n",
       "    splits={\n",
       "        'test': <SplitInfo num_examples=25000, num_shards=1>,\n",
       "        'train': <SplitInfo num_examples=25000, num_shards=1>,\n",
       "        'unsupervised': <SplitInfo num_examples=50000, num_shards=1>,\n",
       "    },\n",
       "    citation=\"\"\"@InProceedings{maas-EtAl:2011:ACL-HLT2011,\n",
       "      author    = {Maas, Andrew L.  and  Daly, Raymond E.  and  Pham, Peter T.  and  Huang, Dan  and  Ng, Andrew Y.  and  Potts, Christopher},\n",
       "      title     = {Learning Word Vectors for Sentiment Analysis},\n",
       "      booktitle = {Proceedings of the 49th Annual Meeting of the Association for Computational Linguistics: Human Language Technologies},\n",
       "      month     = {June},\n",
       "      year      = {2011},\n",
       "      address   = {Portland, Oregon, USA},\n",
       "      publisher = {Association for Computational Linguistics},\n",
       "      pages     = {142--150},\n",
       "      url       = {http://www.aclweb.org/anthology/P11-1015}\n",
       "    }\"\"\",\n",
       ")"
      ]
     },
     "execution_count": 3,
     "metadata": {},
     "output_type": "execute_result"
    }
   ],
   "source": [
    "info"
   ]
  },
  {
   "cell_type": "code",
   "execution_count": 4,
   "id": "decimal-richards",
   "metadata": {},
   "outputs": [],
   "source": [
    "# Pre_Generated Tokenizer\n",
    "tokenizer = info.features['text'].encoder"
   ]
  },
  {
   "cell_type": "code",
   "execution_count": 5,
   "id": "fundamental-journalism",
   "metadata": {},
   "outputs": [],
   "source": [
    "sub_words = tokenizer.subwords"
   ]
  },
  {
   "cell_type": "code",
   "execution_count": 6,
   "id": "numerical-sudan",
   "metadata": {},
   "outputs": [
    {
     "name": "stdout",
     "output_type": "stream",
     "text": [
      "[4025, 222, 224, 90, 693, 29, 37, 7554, 269, 7992]\n",
      "Hello there! How are you doing?\n"
     ]
    }
   ],
   "source": [
    "# Sample string encoding\n",
    "sample = \"Hello there! How are you doing?\"\n",
    "sample_encoded = tokenizer.encode(sample)\n",
    "print(sample_encoded)\n",
    "sample_decoded = tokenizer.decode(sample_encoded)\n",
    "print(sample_decoded)"
   ]
  },
  {
   "cell_type": "code",
   "execution_count": 7,
   "id": "immediate-calgary",
   "metadata": {},
   "outputs": [
    {
     "name": "stdout",
     "output_type": "stream",
     "text": [
      "4025 : Hell\n",
      "222 : o \n",
      "224 : there\n",
      "90 : ! \n",
      "693 : How \n",
      "29 : are \n",
      "37 : you \n",
      "7554 : doi\n",
      "269 : ng\n",
      "7992 : ?\n"
     ]
    }
   ],
   "source": [
    "# Let's see what all these numbers correspond to\n",
    "for nums in sample_encoded:\n",
    "    print(f'{nums} : {tokenizer.decode([nums])}')"
   ]
  },
  {
   "cell_type": "markdown",
   "id": "respected-prevention",
   "metadata": {},
   "source": [
    "We can see it isn't making very sense. Like doi . Also Hell instead of hello changed the complete meaning"
   ]
  },
  {
   "cell_type": "code",
   "execution_count": 8,
   "id": "directed-laser",
   "metadata": {},
   "outputs": [
    {
     "name": "stdout",
     "output_type": "stream",
     "text": [
      "<PrefetchDataset shapes: ((None,), ()), types: (tf.int64, tf.int64)>\n"
     ]
    }
   ],
   "source": [
    "train , test =imdb['train'],imdb['test']\n",
    "print(train)"
   ]
  },
  {
   "cell_type": "code",
   "execution_count": 9,
   "id": "voluntary-dating",
   "metadata": {},
   "outputs": [],
   "source": [
    "# Shuffle the data\n",
    "train_dataset = train.shuffle(10000)\n",
    "# Pad the data and make batches, our data is in tensor\n",
    "\n",
    "BATCH_SIZE = 64\n",
    "\n",
    "train_dataset = train_dataset.padded_batch(BATCH_SIZE,tf.compat.v1.data.get_output_shapes(train_dataset))\n",
    "test_dataset = test.padded_batch(BATCH_SIZE,tf.compat.v1.data.get_output_shapes(test))"
   ]
  },
  {
   "cell_type": "code",
   "execution_count": 10,
   "id": "periodic-mixer",
   "metadata": {},
   "outputs": [
    {
     "name": "stdout",
     "output_type": "stream",
     "text": [
      "Model: \"sequential\"\n",
      "_________________________________________________________________\n",
      "Layer (type)                 Output Shape              Param #   \n",
      "=================================================================\n",
      "embedding (Embedding)        (None, None, 64)          523840    \n",
      "_________________________________________________________________\n",
      "global_average_pooling1d (Gl (None, 64)                0         \n",
      "_________________________________________________________________\n",
      "dense (Dense)                (None, 6)                 390       \n",
      "_________________________________________________________________\n",
      "dense_1 (Dense)              (None, 1)                 7         \n",
      "=================================================================\n",
      "Total params: 524,237\n",
      "Trainable params: 524,237\n",
      "Non-trainable params: 0\n",
      "_________________________________________________________________\n"
     ]
    }
   ],
   "source": [
    "embedding_dim = 64\n",
    "model = tf.keras.Sequential([\n",
    "    tf.keras.layers.Embedding(tokenizer.vocab_size, embedding_dim),\n",
    "    tf.keras.layers.GlobalAveragePooling1D(),\n",
    "    tf.keras.layers.Dense(6, activation='relu'),\n",
    "    tf.keras.layers.Dense(1, activation='sigmoid')\n",
    "])\n",
    "\n",
    "model.summary()"
   ]
  },
  {
   "cell_type": "code",
   "execution_count": 11,
   "id": "closed-essay",
   "metadata": {},
   "outputs": [],
   "source": [
    "model.compile(loss='binary_crossentropy',optimizer='adam',metrics = ['accuracy'])"
   ]
  },
  {
   "cell_type": "code",
   "execution_count": 12,
   "id": "representative-lodging",
   "metadata": {},
   "outputs": [
    {
     "name": "stdout",
     "output_type": "stream",
     "text": [
      "Epoch 1/10\n",
      "391/391 [==============================] - 16s 41ms/step - loss: 0.6849 - accuracy: 0.5588 - val_loss: 0.6560 - val_accuracy: 0.5933\n",
      "Epoch 2/10\n",
      "391/391 [==============================] - 16s 40ms/step - loss: 0.5832 - accuracy: 0.7514 - val_loss: 0.5234 - val_accuracy: 0.7940\n",
      "Epoch 3/10\n",
      "391/391 [==============================] - 16s 42ms/step - loss: 0.4513 - accuracy: 0.8575 - val_loss: 0.4360 - val_accuracy: 0.8637\n",
      "Epoch 4/10\n",
      "391/391 [==============================] - 15s 40ms/step - loss: 0.3664 - accuracy: 0.8908 - val_loss: 0.3781 - val_accuracy: 0.8718\n",
      "Epoch 5/10\n",
      "391/391 [==============================] - 16s 42ms/step - loss: 0.3125 - accuracy: 0.9070 - val_loss: 0.3501 - val_accuracy: 0.8772\n",
      "Epoch 6/10\n",
      "391/391 [==============================] - 16s 40ms/step - loss: 0.2713 - accuracy: 0.9173 - val_loss: 0.3243 - val_accuracy: 0.8762\n",
      "Epoch 7/10\n",
      "391/391 [==============================] - 15s 39ms/step - loss: 0.2192 - accuracy: 0.9255 - val_loss: 0.3074 - val_accuracy: 0.8798\n",
      "Epoch 8/10\n",
      "391/391 [==============================] - 15s 39ms/step - loss: 0.1985 - accuracy: 0.9317 - val_loss: 0.3175 - val_accuracy: 0.8762\n",
      "Epoch 9/10\n",
      "391/391 [==============================] - 15s 38ms/step - loss: 0.1815 - accuracy: 0.9383 - val_loss: 0.3352 - val_accuracy: 0.8685\n",
      "Epoch 10/10\n",
      "391/391 [==============================] - 15s 38ms/step - loss: 0.1699 - accuracy: 0.9421 - val_loss: 0.3251 - val_accuracy: 0.8767\n"
     ]
    }
   ],
   "source": [
    "history = model.fit(train_dataset,epochs = 10,validation_data = test_dataset)"
   ]
  },
  {
   "cell_type": "code",
   "execution_count": 14,
   "id": "aerial-asian",
   "metadata": {},
   "outputs": [
    {
     "data": {
      "image/png": "[encoded data removed]",
      "text/plain": [
       "<Figure size 432x288 with 1 Axes>"
      ]
     },
     "metadata": {
      "needs_background": "light"
     },
     "output_type": "display_data"
    },
    {
     "data": {
      "image/png": "[encoded data removed]",
      "text/plain": [
       "<Figure size 432x288 with 1 Axes>"
      ]
     },
     "metadata": {
      "needs_background": "light"
     },
     "output_type": "display_data"
    }
   ],
   "source": [
    "def plot_graphs(history, string):\n",
    "  plt.plot(history.history[string])\n",
    "  plt.plot(history.history['val_'+string])\n",
    "  plt.xlabel(\"Epochs\")\n",
    "  plt.ylabel(string)\n",
    "  plt.legend([string, 'val_'+string])\n",
    "  plt.show()\n",
    "  \n",
    "plot_graphs(history, \"accuracy\")\n",
    "plot_graphs(history, \"loss\")"
   ]
  },
  {
   "cell_type": "code",
   "execution_count": 15,
   "id": "interested-designation",
   "metadata": {},
   "outputs": [
    {
     "name": "stdout",
     "output_type": "stream",
     "text": [
      "(8185, 64)\n"
     ]
    }
   ],
   "source": [
    "e = model.layers[0]\n",
    "weights = e.get_weights()[0]\n",
    "print(weights.shape) # shape: (vocab_size, embedding_dim)\n",
    "\n",
    "import io\n",
    "\n",
    "out_v = io.open('vecs1.tsv', 'w', encoding='utf-8')\n",
    "out_m = io.open('meta1.tsv', 'w', encoding='utf-8')\n",
    "for word_num in range(1, tokenizer.vocab_size):\n",
    "  word = tokenizer.decode([word_num])\n",
    "  embeddings = weights[word_num]\n",
    "  out_m.write(word + \"\\n\")\n",
    "  out_v.write('\\t'.join([str(x) for x in embeddings]) + \"\\n\")\n",
    "out_v.close()\n",
    "out_m.close()"
   ]
  }
 ],
 "metadata": {
  "kernelspec": {
   "display_name": "Python 3",
   "language": "python",
   "name": "python3"
  },
  "language_info": {
   "codemirror_mode": {
    "name": "ipython",
    "version": 3
   },
   "file_extension": ".py",
   "mimetype": "text/x-python",
   "name": "python",
   "nbconvert_exporter": "python",
   "pygments_lexer": "ipython3",
   "version": "3.8.5"
  }
 },
 "nbformat": 4,
 "nbformat_minor": 5
}
